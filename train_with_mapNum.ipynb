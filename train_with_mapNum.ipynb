{
 "cells": [
  {
   "cell_type": "code",
   "execution_count": null,
   "metadata": {},
   "outputs": [],
   "source": [
    "import pickle\n",
    "import numpy as np\n",
    "path = \"C:/Users/weiso131/Desktop/paia2.4.5/resources/app.asar.unpacked/games/maze_car/ml/\"\n",
    "\n",
    "data = []\n",
    "label = []\n",
    "for i in range(1, 12):\n",
    "    with open(path + \"data/graph\" + str(i) + \".pickle\" ,'rb') as f:\n",
    "        foo_list = pickle.load(f)\n",
    "\n",
    "        for x, y in foo_list:\n",
    "            data.append(x)\n",
    "            label.append(y)\n",
    "            print(x)\n",
    "\n",
    "\n",
    "X_train = np.array(data)\n",
    "Y_train = np.array(label)\n",
    "\n",
    "print(X_train.shape)\n",
    "print(Y_train.shape)"
   ]
  },
  {
   "cell_type": "code",
   "execution_count": null,
   "metadata": {},
   "outputs": [],
   "source": [
    "from sklearn.tree import  DecisionTreeRegressor\n",
    "from sklearn.metrics import mean_absolute_error"
   ]
  },
  {
   "cell_type": "code",
   "execution_count": null,
   "metadata": {},
   "outputs": [],
   "source": [
    "model = DecisionTreeRegressor(max_depth=20, random_state=0)\n",
    "model.fit(X_train, Y_train)\n",
    "preds = model.predict(X_train)\n",
    "\n",
    "MAE = mean_absolute_error(preds, Y_train)\n",
    "print(MAE)"
   ]
  },
  {
   "cell_type": "code",
   "execution_count": null,
   "metadata": {},
   "outputs": [],
   "source": [
    "with open(path + \"model\" + \".pickle\", 'wb') as f:\n",
    "    pickle.dump(model, f)"
   ]
  },
  {
   "cell_type": "code",
   "execution_count": null,
   "metadata": {},
   "outputs": [],
   "source": []
  }
 ],
 "metadata": {
  "kernelspec": {
   "display_name": "paia",
   "language": "python",
   "name": "python3"
  },
  "language_info": {
   "codemirror_mode": {
    "name": "ipython",
    "version": 3
   },
   "file_extension": ".py",
   "mimetype": "text/x-python",
   "name": "python",
   "nbconvert_exporter": "python",
   "pygments_lexer": "ipython3",
   "version": "3.9.18"
  }
 },
 "nbformat": 4,
 "nbformat_minor": 2
}
